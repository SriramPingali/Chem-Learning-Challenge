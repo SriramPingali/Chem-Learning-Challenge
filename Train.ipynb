{
 "cells": [
  {
   "cell_type": "markdown",
   "metadata": {},
   "source": [
    "# Setup"
   ]
  },
  {
   "cell_type": "code",
   "execution_count": null,
   "metadata": {},
   "outputs": [],
   "source": [
    "import torch\n",
    "import numpy as np\n",
    "import pandas as pd\n",
    "import torch.nn as nn\n",
    "import torch.optim as optim\n",
    "import matplotlib.pyplot as plt\n",
    "import torch.nn.functional as F\n",
    "from tqdm import tqdm_notebook\n",
    "from sklearn.metrics import accuracy_score\n",
    "from sklearn.preprocessing import OneHotEncoder\n",
    "from sklearn.metrics import f1_score, cohen_kappa_score\n",
    "from sklearn.metrics import confusion_matrix\n",
    "from sklearn.model_selection import train_test_split"
   ]
  },
  {
   "cell_type": "markdown",
   "metadata": {},
   "source": [
    "# Import Data"
   ]
  },
  {
   "cell_type": "code",
   "execution_count": null,
   "metadata": {},
   "outputs": [],
   "source": [
    "impt_data = pd.read_csv(\"CLC_train.csv\")\n",
    "test_data = pd.read_csv(\"CLC_test.csv\")"
   ]
  },
  {
   "cell_type": "code",
   "execution_count": null,
   "metadata": {},
   "outputs": [],
   "source": [
    "labels_pd = impt_data.pop(\"CO_level\")\n",
    "labels_test_pd = test_data.pop(\"CO_level\")"
   ]
  },
  {
   "cell_type": "code",
   "execution_count": null,
   "metadata": {},
   "outputs": [],
   "source": [
    "include_columns = [\"CO_GT\", \"PT08_S1_CO\", \"PT08_S2_NMHC\"]\n",
    "data_pd = impt_data[include_columns]\n",
    "data_test_pd = test_data[include_columns]"
   ]
  },
  {
   "cell_type": "code",
   "execution_count": null,
   "metadata": {},
   "outputs": [],
   "source": [
    "data = data_pd.to_numpy()\n",
    "labels = labels_pd.to_numpy()\n",
    "X_test = data_test_pd.to_numpy()\n",
    "Y_test = labels_test_pd.to_numpy()\n",
    "print(data.shape)\n",
    "print(X_test.shape)"
   ]
  },
  {
   "cell_type": "markdown",
   "metadata": {},
   "source": [
    "# Train Test Split"
   ]
  },
  {
   "cell_type": "code",
   "execution_count": null,
   "metadata": {},
   "outputs": [],
   "source": [
    "X_train, X_val, Y_train, Y_val = train_test_split(data, labels, stratify = labels, random_state = 0, test_size = 0.4)"
   ]
  },
  {
   "cell_type": "code",
   "execution_count": null,
   "metadata": {},
   "outputs": [],
   "source": [
    "enc = OneHotEncoder()\n",
    "Y_OH_train = enc.fit_transform(np.expand_dims(Y_train, 1)).toarray()\n",
    "Y_OH_val = enc.transform(np.expand_dims(Y_val, 1)).toarray()\n",
    "Y_OH_test = enc.transform(np.expand_dims(Y_test, 1)).toarray()"
   ]
  },
  {
   "cell_type": "code",
   "execution_count": null,
   "metadata": {},
   "outputs": [],
   "source": [
    "X_train, Y_OH_train, X_val, Y_OH_val, X_test, Y_OH_test = map(torch.tensor, (X_train, Y_OH_train, X_val, Y_OH_val, X_test, Y_OH_test))"
   ]
  },
  {
   "cell_type": "code",
   "execution_count": null,
   "metadata": {},
   "outputs": [],
   "source": [
    "X_train, X_val, X_test = X_train.float(), X_val.float(), X_test.float()"
   ]
  },
  {
   "cell_type": "markdown",
   "metadata": {},
   "source": [
    "# Cuda Support"
   ]
  },
  {
   "cell_type": "code",
   "execution_count": null,
   "metadata": {},
   "outputs": [],
   "source": [
    "device = torch.device(\"cuda\" if torch.cuda.is_available() else \"cpu\")\n",
    "\n",
    "X_train = X_train.to(device)\n",
    "X_val = X_val.to(device)\n",
    "X_test = X_test.to(device)\n",
    "Y_OH_train = Y_OH_train.to(device)\n",
    "Y_OH_val = Y_OH_val.to(device)\n",
    "Y_OH_test = Y_OH_test.to(device)"
   ]
  },
  {
   "cell_type": "markdown",
   "metadata": {},
   "source": [
    "# FF Network"
   ]
  },
  {
   "cell_type": "code",
   "execution_count": null,
   "metadata": {},
   "outputs": [],
   "source": [
    "class FF_Network(nn.Module):\n",
    "    def __init__(self):\n",
    "        super().__init__()\n",
    "        torch.manual_seed(0)\n",
    "        self.net = nn.Sequential(\n",
    "            nn.Linear(3, 55),\n",
    "            nn.BatchNorm1d(55),\n",
    "            nn.ReLU(),\n",
    "            nn.Linear(55,40),\n",
    "            nn.BatchNorm1d(40),\n",
    "            nn.ReLU(), \n",
    "            nn.Linear(40, 5),\n",
    "        )\n",
    "           \n",
    "    def forward(self, X):\n",
    "        return(self.net(X))"
   ]
  },
  {
   "cell_type": "code",
   "execution_count": null,
   "metadata": {},
   "outputs": [],
   "source": [
    "ff_n = FF_Network()\n",
    "ff_n = ff_n.to(device)\n",
    "loss_fn = nn.CrossEntropyLoss()"
   ]
  },
  {
   "cell_type": "code",
   "execution_count": null,
   "metadata": {},
   "outputs": [],
   "source": [
    "def accuracy(Y_hat, Y):\n",
    "    accuracy = accuracy_score(np.argmax(Y_hat.cpu().detach().numpy(), 1), np.argmax(Y.cpu().detach().numpy(), 1))\n",
    "    f1_scr = f1_score(np.argmax(Y_hat.cpu().detach().numpy(), 1), np.argmax(Y.cpu().detach().numpy(), 1), average='macro')\n",
    "    kappa = cohen_kappa_score(np.argmax(Y_hat.cpu().detach().numpy(), 1), np.argmax(Y.cpu().detach().numpy(), 1))\n",
    "    return(accuracy, f1_scr, kappa)"
   ]
  },
  {
   "cell_type": "code",
   "execution_count": null,
   "metadata": {},
   "outputs": [],
   "source": [
    "def train(X, Y, model, loss_fn = loss_fn, lr = 0.02, epochs = 2500, batch_size = 512):\n",
    "    loss_b = []\n",
    "    acc_b = []\n",
    "    acc = 0\n",
    "    optm = optim.Adam(ff_n.parameters(), lr = lr)\n",
    "    Y_temp = Y.to('cpu')\n",
    "    Y = np.argmax(Y_temp, 1)\n",
    "    Y = Y.to(device)\n",
    "    for i in tqdm_notebook(range(epochs)):\n",
    "        for i in range(X.shape[0] // batch_size):\n",
    "            local_X, local_Y, local_y_temp = X[i*batch_size:(i+1)*batch_size,], Y[i*batch_size:(i+1)*batch_size,], Y_temp[i*batch_size:(i+1)*batch_size,]\n",
    "            Y_hat = model.forward(local_X)\n",
    "            loss = loss_fn(Y_hat, local_Y)\n",
    "            acc, _, _ = accuracy(Y_hat, local_y_temp)\n",
    "            loss_b.append(loss.item())\n",
    "            acc_b.append(acc)\n",
    "            loss.backward()\n",
    "            optm.step()\n",
    "            optm.zero_grad()\n",
    "    return(loss_b, acc_b, acc)"
   ]
  },
  {
   "cell_type": "code",
   "execution_count": null,
   "metadata": {},
   "outputs": [],
   "source": [
    "%%time\n",
    "loss_b, acc_b, acc_score = train(X_train, Y_OH_train, ff_n, loss_fn, lr = 0.02, epochs = 1500, batch_size = 2048)"
   ]
  },
  {
   "cell_type": "code",
   "execution_count": null,
   "metadata": {},
   "outputs": [],
   "source": [
    "fig = plt.figure(figsize = (16, 8))\n",
    "ax1 = fig.add_subplot(121)\n",
    "ax2 = fig.add_subplot(122)\n",
    "ax1.plot(loss_b)\n",
    "ax1.set_xlabel('time progress')\n",
    "ax1.set_ylabel('loss')\n",
    "ax2.plot(acc_b)\n",
    "ax2.set_xlabel('time_progress')\n",
    "ax2.set_ylabel('acc')"
   ]
  },
  {
   "cell_type": "code",
   "execution_count": null,
   "metadata": {},
   "outputs": [],
   "source": [
    "# ff_n.eval()\n",
    "print(\"Train set accuracy, f1 score: \", accuracy(ff_n.forward(X_train), Y_OH_train), \"\\nValidation set accuracy, f1 score: \", accuracy(ff_n.forward(X_val), Y_OH_val), \"\\nTest set accuracy, f1 score: \", accuracy(ff_n.forward(X_test), Y_OH_test))"
   ]
  },
  {
   "cell_type": "markdown",
   "metadata": {},
   "source": [
    "# Visual Evaluation"
   ]
  },
  {
   "cell_type": "code",
   "execution_count": null,
   "metadata": {},
   "outputs": [],
   "source": [
    "cm = confusion_matrix(np.argmax(Y_OH_val.to('cpu').detach().numpy(), 1), np.argmax(ff_n(X_val).to('cpu').detach().numpy(), 1))\n",
    "print(cm)\n",
    "plt.imshow(cm, cmap='binary')"
   ]
  },
  {
   "cell_type": "code",
   "execution_count": null,
   "metadata": {},
   "outputs": [],
   "source": [
    "cm = confusion_matrix(np.argmax(Y_OH_train.to('cpu').detach().numpy(), 1), np.argmax(ff_n(X_train).to('cpu').detach().numpy(), 1))\n",
    "print(cm)\n",
    "plt.imshow(cm, cmap='binary')"
   ]
  },
  {
   "cell_type": "code",
   "execution_count": null,
   "metadata": {},
   "outputs": [],
   "source": [
    "cm = confusion_matrix(np.argmax(Y_OH_test.to('cpu').detach().numpy(), 1), np.argmax(ff_n(X_test).to('cpu').detach().numpy(), 1))\n",
    "print(cm)\n",
    "plt.imshow(cm, cmap='binary')"
   ]
  },
  {
   "cell_type": "markdown",
   "metadata": {},
   "source": [
    "# Saving Model"
   ]
  },
  {
   "cell_type": "code",
   "execution_count": null,
   "metadata": {},
   "outputs": [],
   "source": [
    "# torch.save(ff_n.state_dict(), './weights_trials')"
   ]
  },
  {
   "cell_type": "code",
   "execution_count": null,
   "metadata": {},
   "outputs": [],
   "source": [
    "model = FF_Network()\n",
    "model.load_state_dict(torch.load('./weights'))\n",
    "model.eval()\n",
    "model.to(device)"
   ]
  },
  {
   "cell_type": "code",
   "execution_count": null,
   "metadata": {},
   "outputs": [],
   "source": [
    "Y_test_pred = model.forward(X_test)"
   ]
  },
  {
   "cell_type": "code",
   "execution_count": null,
   "metadata": {},
   "outputs": [],
   "source": [
    "print(\"Train set Accuracy, F1 score, Cohen's Kappa: \", accuracy(model.forward(X_train), Y_OH_train), \"\\nValidation set Accuracy, F1 score, Cohens Kappa: \", accuracy(model.forward(X_val), Y_OH_val), \"\\nTest set Accuracy, F1 score  Cohens Kappa: \", accuracy(model.forward(X_test), Y_OH_test))"
   ]
  },
  {
   "cell_type": "code",
   "execution_count": null,
   "metadata": {},
   "outputs": [],
   "source": [
    "class_label = [\"High\", \"Low\", \"Moderate\", \"Very High\", \"Very Low\"]"
   ]
  },
  {
   "cell_type": "code",
   "execution_count": null,
   "metadata": {},
   "outputs": [],
   "source": [
    "import csv\n",
    "\n",
    "with open('submission_trials.csv', 'w', newline='') as file:\n",
    "    with open('CLC_test.csv', 'r') as inp:\n",
    "        writer = csv.writer(file)\n",
    "        reader = csv.reader(inp)\n",
    "        heading = next(reader)\n",
    "        heading.append(\"Our Prediction\")\n",
    "        writer.writerow(['Date', 'Time', 'CO_GT', 'PT08_S1_CO', 'NMHC_GT', 'C6H6_GT', 'PT08_S2_NMHC', 'Nox_GT', 'PT08_S3_Nox', 'NO2_GT', 'PT08_S4_NO2', 'PT08_S5_O3', 'T', 'RH', 'AH', 'CO_level', 'Our prediction'])\n",
    "        for i, row in enumerate(reader):\n",
    "            row.append(class_label[np.argmax(Y_test_pred.to('cpu').detach().numpy(), 1)[i]])\n",
    "            writer.writerow(row)"
   ]
  },
  {
   "cell_type": "code",
   "execution_count": null,
   "metadata": {},
   "outputs": [],
   "source": []
  }
 ],
 "metadata": {
  "kernelspec": {
   "display_name": "Python 3",
   "language": "python",
   "name": "python3"
  },
  "language_info": {
   "codemirror_mode": {
    "name": "ipython",
    "version": 3
   },
   "file_extension": ".py",
   "mimetype": "text/x-python",
   "name": "python",
   "nbconvert_exporter": "python",
   "pygments_lexer": "ipython3",
   "version": "3.6.8"
  }
 },
 "nbformat": 4,
 "nbformat_minor": 2
}
