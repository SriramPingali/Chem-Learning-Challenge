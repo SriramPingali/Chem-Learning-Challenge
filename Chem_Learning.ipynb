{
 "cells": [
  {
   "cell_type": "markdown",
   "metadata": {},
   "source": [
    "# Setup"
   ]
  },
  {
   "cell_type": "code",
   "execution_count": 1,
   "metadata": {},
   "outputs": [],
   "source": [
    "import torch\n",
    "import numpy as np\n",
    "import pandas as pd\n",
    "import torch.nn as nn\n",
    "import torch.optim as optim\n",
    "import matplotlib.pyplot as plt\n",
    "import torch.nn.functional as F\n",
    "from tqdm import tqdm_notebook\n",
    "from sklearn.metrics import accuracy_score\n",
    "from sklearn.preprocessing import OneHotEncoder\n",
    "from sklearn.metrics import confusion_matrix\n",
    "from sklearn.model_selection import train_test_split"
   ]
  },
  {
   "cell_type": "markdown",
   "metadata": {},
   "source": [
    "# Import Data"
   ]
  },
  {
   "cell_type": "code",
   "execution_count": 2,
   "metadata": {},
   "outputs": [],
   "source": [
    "impt_data = pd.read_csv(\"CLC_train.csv\")\n",
    "test_data = pd.read_csv(\"CLC_test.csv\")"
   ]
  },
  {
   "cell_type": "code",
   "execution_count": 3,
   "metadata": {},
   "outputs": [],
   "source": [
    "labels_pd = impt_data.pop(\"CO_level\")\n",
    "labels_test_pd = test_data.pop(\"CO_level\")"
   ]
  },
  {
   "cell_type": "code",
   "execution_count": 4,
   "metadata": {},
   "outputs": [
    {
     "data": {
      "text/plain": [
       "Index(['Date', 'Time', 'CO_GT', 'PT08_S1_CO', 'NMHC_GT', 'C6H6_GT',\n",
       "       'PT08_S2_NMHC', 'Nox_GT', 'PT08_S3_Nox', 'NO2_GT', 'PT08_S4_NO2',\n",
       "       'PT08_S5_O3', 'T', 'RH', 'AH'],\n",
       "      dtype='object')"
      ]
     },
     "execution_count": 4,
     "metadata": {},
     "output_type": "execute_result"
    }
   ],
   "source": [
    "impt_data.columns"
   ]
  },
  {
   "cell_type": "code",
   "execution_count": 5,
   "metadata": {},
   "outputs": [],
   "source": [
    "# exclude_columns = ['Date', 'Time', 'NMHC_GT', 'C6H6_GT'\n",
    "#        , 'Nox_GT', 'PT08_S3_Nox', 'NO2_GT', 'PT08_S4_NO2',\n",
    "#        'PT08_S5_O3', 'T', 'RH', 'AH']\n",
    "include_columns = [\"CO_GT\", \"PT08_S1_CO\", \"PT08_S2_NMHC\"]\n",
    "# exclude_columns = [\"Date\", \"Time\", \"CO_GT\", \"NMHC_GT\", \"T\", \"RH\", \"AH\"]\n",
    "# data_pd = impt_data.drop(exclude_columns, axis = 1)\n",
    "data_pd = impt_data[include_columns]\n",
    "# data_test_pd = test_data.drop(exclude_columns, axis = 1)\n",
    "data_test_pd = test_data[include_columns]"
   ]
  },
  {
   "cell_type": "code",
   "execution_count": 6,
   "metadata": {},
   "outputs": [
    {
     "name": "stdout",
     "output_type": "stream",
     "text": [
      "(7485, 3)\n",
      "(1872, 3)\n"
     ]
    }
   ],
   "source": [
    "data = data_pd.to_numpy()\n",
    "labels = labels_pd.to_numpy()\n",
    "X_test = data_test_pd.to_numpy()\n",
    "Y_test = labels_test_pd.to_numpy()\n",
    "print(data.shape)\n",
    "print(X_test.shape)"
   ]
  },
  {
   "cell_type": "markdown",
   "metadata": {},
   "source": [
    "# Cleaning the data"
   ]
  },
  {
   "cell_type": "code",
   "execution_count": 7,
   "metadata": {},
   "outputs": [],
   "source": [
    "remove_rows = impt_data[impt_data['AH'] == -200].index.to_numpy()\n",
    "data = np.delete(data, tuple(remove_rows), axis = 0)\n",
    "labels = np.delete(labels, tuple(remove_rows), axis = 0)"
   ]
  },
  {
   "cell_type": "code",
   "execution_count": 8,
   "metadata": {},
   "outputs": [],
   "source": [
    "# remove_rows = test_data[test_data['AH'] == -200].index.to_numpy()\n",
    "# # print(data_test_pd.shape)\n",
    "# X_test = np.delete(X_test, tuple(remove_rows), axis = 0)\n",
    "# print(X_test.shape)\n",
    "# Y_test = np.delete(Y_test, tuple(remove_rows), axis = 0)"
   ]
  },
  {
   "cell_type": "code",
   "execution_count": 9,
   "metadata": {},
   "outputs": [
    {
     "data": {
      "text/plain": [
       "(7162,)"
      ]
     },
     "execution_count": 9,
     "metadata": {},
     "output_type": "execute_result"
    }
   ],
   "source": [
    "labels.shape"
   ]
  },
  {
   "cell_type": "markdown",
   "metadata": {},
   "source": [
    "# Train Test Split"
   ]
  },
  {
   "cell_type": "code",
   "execution_count": 10,
   "metadata": {},
   "outputs": [],
   "source": [
    "X_train, X_val, Y_train, Y_val = train_test_split(data, labels, stratify = labels, random_state = 0, test_size = 0.4)"
   ]
  },
  {
   "cell_type": "code",
   "execution_count": 11,
   "metadata": {},
   "outputs": [],
   "source": [
    "enc = OneHotEncoder()\n",
    "Y_OH_train = enc.fit_transform(np.expand_dims(Y_train, 1)).toarray()\n",
    "Y_OH_val = enc.transform(np.expand_dims(Y_val, 1)).toarray()\n",
    "Y_OH_test = enc.transform(np.expand_dims(Y_test, 1)).toarray()"
   ]
  },
  {
   "cell_type": "code",
   "execution_count": 12,
   "metadata": {},
   "outputs": [],
   "source": [
    "X_train, Y_OH_train, X_val, Y_OH_val, X_test, Y_OH_test = map(torch.tensor, (X_train, Y_OH_train, X_val, Y_OH_val, X_test, Y_OH_test))"
   ]
  },
  {
   "cell_type": "code",
   "execution_count": 13,
   "metadata": {},
   "outputs": [],
   "source": [
    "X_train, X_val, X_test = X_train.float(), X_val.float(), X_test.float()"
   ]
  },
  {
   "cell_type": "code",
   "execution_count": 14,
   "metadata": {},
   "outputs": [
    {
     "data": {
      "text/html": [
       "<div>\n",
       "<style scoped>\n",
       "    .dataframe tbody tr th:only-of-type {\n",
       "        vertical-align: middle;\n",
       "    }\n",
       "\n",
       "    .dataframe tbody tr th {\n",
       "        vertical-align: top;\n",
       "    }\n",
       "\n",
       "    .dataframe thead th {\n",
       "        text-align: right;\n",
       "    }\n",
       "</style>\n",
       "<table border=\"1\" class=\"dataframe\">\n",
       "  <thead>\n",
       "    <tr style=\"text-align: right;\">\n",
       "      <th></th>\n",
       "      <th>Date</th>\n",
       "      <th>Time</th>\n",
       "      <th>CO_GT</th>\n",
       "      <th>PT08_S1_CO</th>\n",
       "      <th>NMHC_GT</th>\n",
       "      <th>C6H6_GT</th>\n",
       "      <th>PT08_S2_NMHC</th>\n",
       "      <th>Nox_GT</th>\n",
       "      <th>PT08_S3_Nox</th>\n",
       "      <th>NO2_GT</th>\n",
       "      <th>PT08_S4_NO2</th>\n",
       "      <th>PT08_S5_O3</th>\n",
       "      <th>T</th>\n",
       "      <th>RH</th>\n",
       "      <th>AH</th>\n",
       "    </tr>\n",
       "  </thead>\n",
       "  <tbody>\n",
       "    <tr>\n",
       "      <th>0</th>\n",
       "      <td>11/23/2004</td>\n",
       "      <td>19:00:00</td>\n",
       "      <td>11.9</td>\n",
       "      <td>2008</td>\n",
       "      <td>-200</td>\n",
       "      <td>50.6</td>\n",
       "      <td>1980</td>\n",
       "      <td>1389</td>\n",
       "      <td>325</td>\n",
       "      <td>220</td>\n",
       "      <td>2562</td>\n",
       "      <td>2342</td>\n",
       "      <td>12.4</td>\n",
       "      <td>74.7</td>\n",
       "      <td>1.0741</td>\n",
       "    </tr>\n",
       "    <tr>\n",
       "      <th>1</th>\n",
       "      <td>11/23/2004</td>\n",
       "      <td>20:00:00</td>\n",
       "      <td>11.5</td>\n",
       "      <td>1918</td>\n",
       "      <td>-200</td>\n",
       "      <td>49.4</td>\n",
       "      <td>1958</td>\n",
       "      <td>1358</td>\n",
       "      <td>335</td>\n",
       "      <td>190</td>\n",
       "      <td>2477</td>\n",
       "      <td>2237</td>\n",
       "      <td>11.5</td>\n",
       "      <td>76.2</td>\n",
       "      <td>1.0324</td>\n",
       "    </tr>\n",
       "    <tr>\n",
       "      <th>2</th>\n",
       "      <td>11/17/2004</td>\n",
       "      <td>18:00:00</td>\n",
       "      <td>10.2</td>\n",
       "      <td>1802</td>\n",
       "      <td>-200</td>\n",
       "      <td>47.7</td>\n",
       "      <td>1924</td>\n",
       "      <td>748</td>\n",
       "      <td>356</td>\n",
       "      <td>192</td>\n",
       "      <td>2235</td>\n",
       "      <td>2452</td>\n",
       "      <td>13.7</td>\n",
       "      <td>52.8</td>\n",
       "      <td>0.8244</td>\n",
       "    </tr>\n",
       "    <tr>\n",
       "      <th>3</th>\n",
       "      <td>11/23/2004</td>\n",
       "      <td>18:00:00</td>\n",
       "      <td>10.2</td>\n",
       "      <td>1982</td>\n",
       "      <td>-200</td>\n",
       "      <td>49.5</td>\n",
       "      <td>1959</td>\n",
       "      <td>1369</td>\n",
       "      <td>322</td>\n",
       "      <td>227</td>\n",
       "      <td>2536</td>\n",
       "      <td>2386</td>\n",
       "      <td>13.2</td>\n",
       "      <td>72.6</td>\n",
       "      <td>1.0936</td>\n",
       "    </tr>\n",
       "    <tr>\n",
       "      <th>4</th>\n",
       "      <td>11/26/2004</td>\n",
       "      <td>18:00:00</td>\n",
       "      <td>10.1</td>\n",
       "      <td>1956</td>\n",
       "      <td>-200</td>\n",
       "      <td>45.2</td>\n",
       "      <td>1877</td>\n",
       "      <td>1389</td>\n",
       "      <td>347</td>\n",
       "      <td>255</td>\n",
       "      <td>2338</td>\n",
       "      <td>2465</td>\n",
       "      <td>15.5</td>\n",
       "      <td>62.8</td>\n",
       "      <td>1.0979</td>\n",
       "    </tr>\n",
       "    <tr>\n",
       "      <th>...</th>\n",
       "      <td>...</td>\n",
       "      <td>...</td>\n",
       "      <td>...</td>\n",
       "      <td>...</td>\n",
       "      <td>...</td>\n",
       "      <td>...</td>\n",
       "      <td>...</td>\n",
       "      <td>...</td>\n",
       "      <td>...</td>\n",
       "      <td>...</td>\n",
       "      <td>...</td>\n",
       "      <td>...</td>\n",
       "      <td>...</td>\n",
       "      <td>...</td>\n",
       "      <td>...</td>\n",
       "    </tr>\n",
       "    <tr>\n",
       "      <th>7480</th>\n",
       "      <td>10/17/2004</td>\n",
       "      <td>1:00:00</td>\n",
       "      <td>-200.0</td>\n",
       "      <td>864</td>\n",
       "      <td>-200</td>\n",
       "      <td>2.7</td>\n",
       "      <td>633</td>\n",
       "      <td>-200</td>\n",
       "      <td>1097</td>\n",
       "      <td>-200</td>\n",
       "      <td>1259</td>\n",
       "      <td>523</td>\n",
       "      <td>16.4</td>\n",
       "      <td>70.3</td>\n",
       "      <td>1.3031</td>\n",
       "    </tr>\n",
       "    <tr>\n",
       "      <th>7481</th>\n",
       "      <td>10/17/2004</td>\n",
       "      <td>2:00:00</td>\n",
       "      <td>-200.0</td>\n",
       "      <td>929</td>\n",
       "      <td>-200</td>\n",
       "      <td>3.8</td>\n",
       "      <td>698</td>\n",
       "      <td>-200</td>\n",
       "      <td>991</td>\n",
       "      <td>-200</td>\n",
       "      <td>1307</td>\n",
       "      <td>610</td>\n",
       "      <td>15.4</td>\n",
       "      <td>78.1</td>\n",
       "      <td>1.3557</td>\n",
       "    </tr>\n",
       "    <tr>\n",
       "      <th>7482</th>\n",
       "      <td>10/17/2004</td>\n",
       "      <td>3:00:00</td>\n",
       "      <td>-200.0</td>\n",
       "      <td>912</td>\n",
       "      <td>-200</td>\n",
       "      <td>3.6</td>\n",
       "      <td>690</td>\n",
       "      <td>-200</td>\n",
       "      <td>984</td>\n",
       "      <td>-200</td>\n",
       "      <td>1309</td>\n",
       "      <td>574</td>\n",
       "      <td>15.8</td>\n",
       "      <td>75.5</td>\n",
       "      <td>1.3436</td>\n",
       "    </tr>\n",
       "    <tr>\n",
       "      <th>7483</th>\n",
       "      <td>10/17/2004</td>\n",
       "      <td>4:00:00</td>\n",
       "      <td>-200.0</td>\n",
       "      <td>817</td>\n",
       "      <td>-200</td>\n",
       "      <td>2.2</td>\n",
       "      <td>602</td>\n",
       "      <td>-200</td>\n",
       "      <td>1120</td>\n",
       "      <td>-200</td>\n",
       "      <td>1227</td>\n",
       "      <td>470</td>\n",
       "      <td>16.0</td>\n",
       "      <td>69.5</td>\n",
       "      <td>1.2549</td>\n",
       "    </tr>\n",
       "    <tr>\n",
       "      <th>7484</th>\n",
       "      <td>10/17/2004</td>\n",
       "      <td>5:00:00</td>\n",
       "      <td>-200.0</td>\n",
       "      <td>786</td>\n",
       "      <td>-200</td>\n",
       "      <td>1.7</td>\n",
       "      <td>558</td>\n",
       "      <td>-200</td>\n",
       "      <td>1217</td>\n",
       "      <td>-200</td>\n",
       "      <td>1179</td>\n",
       "      <td>434</td>\n",
       "      <td>15.0</td>\n",
       "      <td>71.0</td>\n",
       "      <td>1.2032</td>\n",
       "    </tr>\n",
       "  </tbody>\n",
       "</table>\n",
       "<p>7485 rows × 15 columns</p>\n",
       "</div>"
      ],
      "text/plain": [
       "            Date      Time  CO_GT  PT08_S1_CO  NMHC_GT  C6H6_GT  PT08_S2_NMHC  \\\n",
       "0     11/23/2004  19:00:00   11.9        2008     -200     50.6          1980   \n",
       "1     11/23/2004  20:00:00   11.5        1918     -200     49.4          1958   \n",
       "2     11/17/2004  18:00:00   10.2        1802     -200     47.7          1924   \n",
       "3     11/23/2004  18:00:00   10.2        1982     -200     49.5          1959   \n",
       "4     11/26/2004  18:00:00   10.1        1956     -200     45.2          1877   \n",
       "...          ...       ...    ...         ...      ...      ...           ...   \n",
       "7480  10/17/2004   1:00:00 -200.0         864     -200      2.7           633   \n",
       "7481  10/17/2004   2:00:00 -200.0         929     -200      3.8           698   \n",
       "7482  10/17/2004   3:00:00 -200.0         912     -200      3.6           690   \n",
       "7483  10/17/2004   4:00:00 -200.0         817     -200      2.2           602   \n",
       "7484  10/17/2004   5:00:00 -200.0         786     -200      1.7           558   \n",
       "\n",
       "      Nox_GT  PT08_S3_Nox  NO2_GT  PT08_S4_NO2  PT08_S5_O3     T    RH      AH  \n",
       "0       1389          325     220         2562        2342  12.4  74.7  1.0741  \n",
       "1       1358          335     190         2477        2237  11.5  76.2  1.0324  \n",
       "2        748          356     192         2235        2452  13.7  52.8  0.8244  \n",
       "3       1369          322     227         2536        2386  13.2  72.6  1.0936  \n",
       "4       1389          347     255         2338        2465  15.5  62.8  1.0979  \n",
       "...      ...          ...     ...          ...         ...   ...   ...     ...  \n",
       "7480    -200         1097    -200         1259         523  16.4  70.3  1.3031  \n",
       "7481    -200          991    -200         1307         610  15.4  78.1  1.3557  \n",
       "7482    -200          984    -200         1309         574  15.8  75.5  1.3436  \n",
       "7483    -200         1120    -200         1227         470  16.0  69.5  1.2549  \n",
       "7484    -200         1217    -200         1179         434  15.0  71.0  1.2032  \n",
       "\n",
       "[7485 rows x 15 columns]"
      ]
     },
     "execution_count": 14,
     "metadata": {},
     "output_type": "execute_result"
    }
   ],
   "source": [
    "impt_data"
   ]
  },
  {
   "cell_type": "code",
   "execution_count": 15,
   "metadata": {},
   "outputs": [
    {
     "data": {
      "text/html": [
       "<div>\n",
       "<style scoped>\n",
       "    .dataframe tbody tr th:only-of-type {\n",
       "        vertical-align: middle;\n",
       "    }\n",
       "\n",
       "    .dataframe tbody tr th {\n",
       "        vertical-align: top;\n",
       "    }\n",
       "\n",
       "    .dataframe thead th {\n",
       "        text-align: right;\n",
       "    }\n",
       "</style>\n",
       "<table border=\"1\" class=\"dataframe\">\n",
       "  <thead>\n",
       "    <tr style=\"text-align: right;\">\n",
       "      <th></th>\n",
       "      <th>Date</th>\n",
       "      <th>Time</th>\n",
       "      <th>CO_GT</th>\n",
       "      <th>PT08_S1_CO</th>\n",
       "      <th>NMHC_GT</th>\n",
       "      <th>C6H6_GT</th>\n",
       "      <th>PT08_S2_NMHC</th>\n",
       "      <th>Nox_GT</th>\n",
       "      <th>PT08_S3_Nox</th>\n",
       "      <th>NO2_GT</th>\n",
       "      <th>PT08_S4_NO2</th>\n",
       "      <th>PT08_S5_O3</th>\n",
       "      <th>T</th>\n",
       "      <th>RH</th>\n",
       "      <th>AH</th>\n",
       "    </tr>\n",
       "  </thead>\n",
       "  <tbody>\n",
       "    <tr>\n",
       "      <th>0</th>\n",
       "      <td>11/2/2004</td>\n",
       "      <td>20:00:00</td>\n",
       "      <td>9.2</td>\n",
       "      <td>1778</td>\n",
       "      <td>-200</td>\n",
       "      <td>48.2</td>\n",
       "      <td>1935</td>\n",
       "      <td>859</td>\n",
       "      <td>349</td>\n",
       "      <td>119</td>\n",
       "      <td>2643</td>\n",
       "      <td>1927</td>\n",
       "      <td>20.9</td>\n",
       "      <td>67.5</td>\n",
       "      <td>1.6539</td>\n",
       "    </tr>\n",
       "    <tr>\n",
       "      <th>1</th>\n",
       "      <td>12/16/2004</td>\n",
       "      <td>20:00:00</td>\n",
       "      <td>9.1</td>\n",
       "      <td>-200</td>\n",
       "      <td>-200</td>\n",
       "      <td>-200.0</td>\n",
       "      <td>-200</td>\n",
       "      <td>1253</td>\n",
       "      <td>-200</td>\n",
       "      <td>219</td>\n",
       "      <td>-200</td>\n",
       "      <td>-200</td>\n",
       "      <td>-200.0</td>\n",
       "      <td>-200.0</td>\n",
       "      <td>-200.0000</td>\n",
       "    </tr>\n",
       "    <tr>\n",
       "      <th>2</th>\n",
       "      <td>12/23/2004</td>\n",
       "      <td>20:00:00</td>\n",
       "      <td>9.1</td>\n",
       "      <td>1701</td>\n",
       "      <td>-200</td>\n",
       "      <td>36.3</td>\n",
       "      <td>1692</td>\n",
       "      <td>1220</td>\n",
       "      <td>402</td>\n",
       "      <td>252</td>\n",
       "      <td>1832</td>\n",
       "      <td>2415</td>\n",
       "      <td>6.2</td>\n",
       "      <td>56.9</td>\n",
       "      <td>0.5419</td>\n",
       "    </tr>\n",
       "    <tr>\n",
       "      <th>3</th>\n",
       "      <td>11/1/2004</td>\n",
       "      <td>8:00:00</td>\n",
       "      <td>1.5</td>\n",
       "      <td>1067</td>\n",
       "      <td>-200</td>\n",
       "      <td>8.7</td>\n",
       "      <td>928</td>\n",
       "      <td>213</td>\n",
       "      <td>711</td>\n",
       "      <td>51</td>\n",
       "      <td>1564</td>\n",
       "      <td>1309</td>\n",
       "      <td>19.1</td>\n",
       "      <td>75.6</td>\n",
       "      <td>1.6519</td>\n",
       "    </tr>\n",
       "    <tr>\n",
       "      <th>4</th>\n",
       "      <td>11/1/2004</td>\n",
       "      <td>14:00:00</td>\n",
       "      <td>1.5</td>\n",
       "      <td>1082</td>\n",
       "      <td>-200</td>\n",
       "      <td>6.5</td>\n",
       "      <td>834</td>\n",
       "      <td>174</td>\n",
       "      <td>747</td>\n",
       "      <td>64</td>\n",
       "      <td>1562</td>\n",
       "      <td>991</td>\n",
       "      <td>23.1</td>\n",
       "      <td>70.8</td>\n",
       "      <td>1.9800</td>\n",
       "    </tr>\n",
       "    <tr>\n",
       "      <th>...</th>\n",
       "      <td>...</td>\n",
       "      <td>...</td>\n",
       "      <td>...</td>\n",
       "      <td>...</td>\n",
       "      <td>...</td>\n",
       "      <td>...</td>\n",
       "      <td>...</td>\n",
       "      <td>...</td>\n",
       "      <td>...</td>\n",
       "      <td>...</td>\n",
       "      <td>...</td>\n",
       "      <td>...</td>\n",
       "      <td>...</td>\n",
       "      <td>...</td>\n",
       "      <td>...</td>\n",
       "    </tr>\n",
       "    <tr>\n",
       "      <th>1867</th>\n",
       "      <td>3/23/2005</td>\n",
       "      <td>4:00:00</td>\n",
       "      <td>-200.0</td>\n",
       "      <td>993</td>\n",
       "      <td>-200</td>\n",
       "      <td>2.3</td>\n",
       "      <td>604</td>\n",
       "      <td>85</td>\n",
       "      <td>848</td>\n",
       "      <td>65</td>\n",
       "      <td>1160</td>\n",
       "      <td>762</td>\n",
       "      <td>14.5</td>\n",
       "      <td>66.4</td>\n",
       "      <td>1.0919</td>\n",
       "    </tr>\n",
       "    <tr>\n",
       "      <th>1868</th>\n",
       "      <td>3/26/2005</td>\n",
       "      <td>4:00:00</td>\n",
       "      <td>-200.0</td>\n",
       "      <td>1122</td>\n",
       "      <td>-200</td>\n",
       "      <td>6.0</td>\n",
       "      <td>811</td>\n",
       "      <td>181</td>\n",
       "      <td>641</td>\n",
       "      <td>92</td>\n",
       "      <td>1336</td>\n",
       "      <td>1122</td>\n",
       "      <td>16.2</td>\n",
       "      <td>71.2</td>\n",
       "      <td>1.3013</td>\n",
       "    </tr>\n",
       "    <tr>\n",
       "      <th>1869</th>\n",
       "      <td>3/29/2005</td>\n",
       "      <td>4:00:00</td>\n",
       "      <td>-200.0</td>\n",
       "      <td>883</td>\n",
       "      <td>-200</td>\n",
       "      <td>1.3</td>\n",
       "      <td>530</td>\n",
       "      <td>63</td>\n",
       "      <td>997</td>\n",
       "      <td>46</td>\n",
       "      <td>1102</td>\n",
       "      <td>617</td>\n",
       "      <td>13.7</td>\n",
       "      <td>68.2</td>\n",
       "      <td>1.0611</td>\n",
       "    </tr>\n",
       "    <tr>\n",
       "      <th>1870</th>\n",
       "      <td>4/1/2005</td>\n",
       "      <td>4:00:00</td>\n",
       "      <td>-200.0</td>\n",
       "      <td>818</td>\n",
       "      <td>-200</td>\n",
       "      <td>0.8</td>\n",
       "      <td>473</td>\n",
       "      <td>47</td>\n",
       "      <td>1257</td>\n",
       "      <td>41</td>\n",
       "      <td>898</td>\n",
       "      <td>323</td>\n",
       "      <td>13.7</td>\n",
       "      <td>48.8</td>\n",
       "      <td>0.7606</td>\n",
       "    </tr>\n",
       "    <tr>\n",
       "      <th>1871</th>\n",
       "      <td>4/4/2005</td>\n",
       "      <td>4:00:00</td>\n",
       "      <td>-200.0</td>\n",
       "      <td>864</td>\n",
       "      <td>-200</td>\n",
       "      <td>0.8</td>\n",
       "      <td>478</td>\n",
       "      <td>52</td>\n",
       "      <td>1116</td>\n",
       "      <td>43</td>\n",
       "      <td>958</td>\n",
       "      <td>489</td>\n",
       "      <td>11.8</td>\n",
       "      <td>56.0</td>\n",
       "      <td>0.7743</td>\n",
       "    </tr>\n",
       "  </tbody>\n",
       "</table>\n",
       "<p>1872 rows × 15 columns</p>\n",
       "</div>"
      ],
      "text/plain": [
       "            Date      Time  CO_GT  PT08_S1_CO  NMHC_GT  C6H6_GT  PT08_S2_NMHC  \\\n",
       "0      11/2/2004  20:00:00    9.2        1778     -200     48.2          1935   \n",
       "1     12/16/2004  20:00:00    9.1        -200     -200   -200.0          -200   \n",
       "2     12/23/2004  20:00:00    9.1        1701     -200     36.3          1692   \n",
       "3      11/1/2004   8:00:00    1.5        1067     -200      8.7           928   \n",
       "4      11/1/2004  14:00:00    1.5        1082     -200      6.5           834   \n",
       "...          ...       ...    ...         ...      ...      ...           ...   \n",
       "1867   3/23/2005   4:00:00 -200.0         993     -200      2.3           604   \n",
       "1868   3/26/2005   4:00:00 -200.0        1122     -200      6.0           811   \n",
       "1869   3/29/2005   4:00:00 -200.0         883     -200      1.3           530   \n",
       "1870    4/1/2005   4:00:00 -200.0         818     -200      0.8           473   \n",
       "1871    4/4/2005   4:00:00 -200.0         864     -200      0.8           478   \n",
       "\n",
       "      Nox_GT  PT08_S3_Nox  NO2_GT  PT08_S4_NO2  PT08_S5_O3      T     RH  \\\n",
       "0        859          349     119         2643        1927   20.9   67.5   \n",
       "1       1253         -200     219         -200        -200 -200.0 -200.0   \n",
       "2       1220          402     252         1832        2415    6.2   56.9   \n",
       "3        213          711      51         1564        1309   19.1   75.6   \n",
       "4        174          747      64         1562         991   23.1   70.8   \n",
       "...      ...          ...     ...          ...         ...    ...    ...   \n",
       "1867      85          848      65         1160         762   14.5   66.4   \n",
       "1868     181          641      92         1336        1122   16.2   71.2   \n",
       "1869      63          997      46         1102         617   13.7   68.2   \n",
       "1870      47         1257      41          898         323   13.7   48.8   \n",
       "1871      52         1116      43          958         489   11.8   56.0   \n",
       "\n",
       "            AH  \n",
       "0       1.6539  \n",
       "1    -200.0000  \n",
       "2       0.5419  \n",
       "3       1.6519  \n",
       "4       1.9800  \n",
       "...        ...  \n",
       "1867    1.0919  \n",
       "1868    1.3013  \n",
       "1869    1.0611  \n",
       "1870    0.7606  \n",
       "1871    0.7743  \n",
       "\n",
       "[1872 rows x 15 columns]"
      ]
     },
     "execution_count": 15,
     "metadata": {},
     "output_type": "execute_result"
    }
   ],
   "source": [
    "test_data"
   ]
  },
  {
   "cell_type": "markdown",
   "metadata": {},
   "source": [
    "# Cuda Support"
   ]
  },
  {
   "cell_type": "code",
   "execution_count": 16,
   "metadata": {},
   "outputs": [],
   "source": [
    "device = torch.device(\"cuda\" if torch.cuda.is_available() else \"cpu\")\n",
    "\n",
    "X_train = X_train.to(device)\n",
    "X_val = X_val.to(device)\n",
    "X_test = X_test.to(device)\n",
    "Y_OH_train = Y_OH_train.to(device)\n",
    "Y_OH_val = Y_OH_val.to(device)\n",
    "Y_OH_test = Y_OH_test.to(device)"
   ]
  },
  {
   "cell_type": "markdown",
   "metadata": {},
   "source": [
    "# FF Network"
   ]
  },
  {
   "cell_type": "code",
   "execution_count": 17,
   "metadata": {},
   "outputs": [],
   "source": [
    "class FF_Network(nn.Module):\n",
    "    def __init__(self):\n",
    "        super().__init__()\n",
    "        torch.manual_seed(0)\n",
    "        self.net = nn.Sequential(\n",
    "            nn.Linear(3, 55),\n",
    "            nn.BatchNorm1d(55),\n",
    "            nn.ReLU(),\n",
    "            nn.Linear(55,40),\n",
    "            nn.BatchNorm1d(40),\n",
    "            nn.ReLU(), \n",
    "            nn.Linear(40, 5),\n",
    "        )\n",
    "# 9, 256, 40, 5\n",
    "# 9, 64, 40, 5\n",
    "# 3, 50, 40, 5\n",
    "           \n",
    "    def forward(self, X):\n",
    "        return(self.net(X))"
   ]
  },
  {
   "cell_type": "code",
   "execution_count": 18,
   "metadata": {},
   "outputs": [],
   "source": [
    "def init_weights(m):\n",
    "    if type(m) == nn.Linear:\n",
    "        torch.nn.init.kaiming_normal_(m.weight)\n",
    "        m.bias.data.fill_(0.01)"
   ]
  },
  {
   "cell_type": "code",
   "execution_count": 19,
   "metadata": {},
   "outputs": [],
   "source": [
    "ff_n = FF_Network()\n",
    "ff_n = ff_n.to(device)\n",
    "ff_n.apply(init_weights)\n",
    "loss_fn = nn.CrossEntropyLoss()"
   ]
  },
  {
   "cell_type": "code",
   "execution_count": 20,
   "metadata": {},
   "outputs": [],
   "source": [
    "def accuracy(Y_hat, Y):\n",
    "    return(accuracy_score(np.argmax(Y_hat.cpu().detach().numpy(), 1), np.argmax(Y.cpu().detach().numpy(), 1)))"
   ]
  },
  {
   "cell_type": "code",
   "execution_count": 21,
   "metadata": {},
   "outputs": [],
   "source": [
    "def train(X, Y, model, loss_fn = loss_fn, lr = 0.02, epochs = 2500, batch_size = 512):\n",
    "    loss_b = []\n",
    "    acc_b = []\n",
    "    acc = 0\n",
    "    optm = optim.Adam(ff_n.parameters(), lr = lr)\n",
    "    Y_temp = Y.to('cpu')\n",
    "    Y = np.argmax(Y_temp, 1)\n",
    "    Y = Y.to(device)\n",
    "    for i in tqdm_notebook(range(epochs)):\n",
    "        for i in range(X.shape[0] // batch_size):\n",
    "            local_X, local_Y, local_y_temp = X[i*batch_size:(i+1)*batch_size,], Y[i*batch_size:(i+1)*batch_size,], Y_temp[i*batch_size:(i+1)*batch_size,]\n",
    "            Y_hat = model.forward(local_X)\n",
    "            loss = loss_fn(Y_hat, local_Y)\n",
    "#             ff_n.eval()\n",
    "#             acc = accuracy(Y_hat, local_y_temp)\n",
    "#             ff_n.train()\n",
    "            loss_b.append(loss.item())\n",
    "#             acc_b.append(acc)\n",
    "            loss.backward()\n",
    "            optm.step()\n",
    "            optm.zero_grad()\n",
    "    return(loss_b, acc_b, acc)"
   ]
  },
  {
   "cell_type": "code",
   "execution_count": 22,
   "metadata": {},
   "outputs": [
    {
     "data": {
      "application/vnd.jupyter.widget-view+json": {
       "model_id": "b4a39956c9d74bc49692cec549cf4b9b",
       "version_major": 2,
       "version_minor": 0
      },
      "text/plain": [
       "HBox(children=(IntProgress(value=0, max=1500), HTML(value='')))"
      ]
     },
     "metadata": {},
     "output_type": "display_data"
    },
    {
     "name": "stdout",
     "output_type": "stream",
     "text": [
      "\n",
      "Wall time: 32.2 s\n"
     ]
    }
   ],
   "source": [
    "%%time\n",
    "loss_b, acc_b, acc_score = train(X_train, Y_OH_train, ff_n, loss_fn, lr = 0.02, epochs = 1500, batch_size = 2048)"
   ]
  },
  {
   "cell_type": "code",
   "execution_count": 23,
   "metadata": {},
   "outputs": [
    {
     "data": {
      "text/plain": [
       "Text(0, 0.5, 'acc')"
      ]
     },
     "execution_count": 23,
     "metadata": {},
     "output_type": "execute_result"
    },
    {
     "data": {
      "image/png": "[encoded data removed]",
      "text/plain": [
       "<Figure size 1152x576 with 2 Axes>"
      ]
     },
     "metadata": {
      "needs_background": "light"
     },
     "output_type": "display_data"
    }
   ],
   "source": [
    "fig = plt.figure(figsize = (16, 8))\n",
    "ax1 = fig.add_subplot(121)\n",
    "ax2 = fig.add_subplot(122)\n",
    "ax1.plot(loss_b)\n",
    "ax1.set_xlabel('time progress')\n",
    "ax1.set_ylabel('loss')\n",
    "ax2.plot(acc_b)\n",
    "ax2.set_xlabel('time_progress')\n",
    "ax2.set_ylabel('acc')"
   ]
  },
  {
   "cell_type": "code",
   "execution_count": 24,
   "metadata": {},
   "outputs": [],
   "source": [
    "Y_test_pred = ff_n.forward(X_test)"
   ]
  },
  {
   "cell_type": "code",
   "execution_count": 35,
   "metadata": {},
   "outputs": [
    {
     "name": "stdout",
     "output_type": "stream",
     "text": [
      "Train set accuracy:  0.9192459855713289 \n",
      "Validation set accuracy:  0.9172774869109948 \n",
      "Test set accuracy:  0.9460470085470085\n"
     ]
    }
   ],
   "source": [
    "ff_n.eval()\n",
    "print(\"Train set accuracy: \", accuracy(ff_n.forward(X_train), Y_OH_train), \"\\nValidation set accuracy: \", accuracy(ff_n.forward(X_val), Y_OH_val), \"\\nTest set accuracy: \", accuracy(ff_n.forward(X_test), Y_OH_test))"
   ]
  },
  {
   "cell_type": "markdown",
   "metadata": {},
   "source": [
    "# Visual Evaluation"
   ]
  },
  {
   "cell_type": "code",
   "execution_count": 26,
   "metadata": {},
   "outputs": [
    {
     "name": "stdout",
     "output_type": "stream",
     "text": [
      "[[1758    0    0    2    0]\n",
      " [   1  480    6    0    0]\n",
      " [   6   37   47    0    0]\n",
      " [   0    0    0    3    0]\n",
      " [   0    0    0    0  525]]\n"
     ]
    },
    {
     "data": {
      "text/plain": [
       "<matplotlib.image.AxesImage at 0x1301e5f6080>"
      ]
     },
     "execution_count": 26,
     "metadata": {},
     "output_type": "execute_result"
    },
    {
     "data": {
      "image/png": "[encoded data removed]",
      "text/plain": [
       "<Figure size 432x288 with 1 Axes>"
      ]
     },
     "metadata": {
      "needs_background": "light"
     },
     "output_type": "display_data"
    }
   ],
   "source": [
    "cm = confusion_matrix(np.argmax(Y_OH_val.to('cpu').detach().numpy(), 1), np.argmax(ff_n(X_val).to('cpu').detach().numpy(), 1))\n",
    "print(cm)\n",
    "plt.imshow(cm, cmap='binary')"
   ]
  },
  {
   "cell_type": "code",
   "execution_count": 27,
   "metadata": {},
   "outputs": [
    {
     "name": "stdout",
     "output_type": "stream",
     "text": [
      "[[2635    0    1    3    0]\n",
      " [   0  729    0    0    0]\n",
      " [   2  109   25    0    0]\n",
      " [   2    0    0    3    0]\n",
      " [   0    0    0    0  788]]\n"
     ]
    },
    {
     "data": {
      "text/plain": [
       "<matplotlib.image.AxesImage at 0x1301e6500f0>"
      ]
     },
     "execution_count": 27,
     "metadata": {},
     "output_type": "execute_result"
    },
    {
     "data": {
      "image/png": "[encoded data removed]",
      "text/plain": [
       "<Figure size 432x288 with 1 Axes>"
      ]
     },
     "metadata": {
      "needs_background": "light"
     },
     "output_type": "display_data"
    }
   ],
   "source": [
    "cm = confusion_matrix(np.argmax(Y_OH_train.to('cpu').detach().numpy(), 1), np.argmax(ff_n(X_train).to('cpu').detach().numpy(), 1))\n",
    "print(cm)\n",
    "plt.imshow(cm, cmap='binary')"
   ]
  },
  {
   "cell_type": "code",
   "execution_count": 28,
   "metadata": {},
   "outputs": [
    {
     "name": "stdout",
     "output_type": "stream",
     "text": [
      "[[1159    1    0    0    0]\n",
      " [  38  273    0    0    0]\n",
      " [  57    2    2    0    0]\n",
      " [   3    0    0    0    0]\n",
      " [   0    3    0    0  334]]\n"
     ]
    },
    {
     "data": {
      "text/plain": [
       "<matplotlib.image.AxesImage at 0x13020c24438>"
      ]
     },
     "execution_count": 28,
     "metadata": {},
     "output_type": "execute_result"
    },
    {
     "data": {
      "image/png": "[encoded data removed]",
      "text/plain": [
       "<Figure size 432x288 with 1 Axes>"
      ]
     },
     "metadata": {
      "needs_background": "light"
     },
     "output_type": "display_data"
    }
   ],
   "source": [
    "cm = confusion_matrix(np.argmax(Y_OH_test.to('cpu').detach().numpy(), 1), np.argmax(ff_n(X_test).to('cpu').detach().numpy(), 1))\n",
    "print(cm)\n",
    "plt.imshow(cm, cmap='binary')"
   ]
  },
  {
   "cell_type": "markdown",
   "metadata": {},
   "source": [
    "# Saving Model"
   ]
  },
  {
   "cell_type": "code",
   "execution_count": 36,
   "metadata": {},
   "outputs": [],
   "source": [
    "torch.save(ff_n.state_dict(), './weights')"
   ]
  },
  {
   "cell_type": "code",
   "execution_count": 37,
   "metadata": {},
   "outputs": [
    {
     "data": {
      "text/plain": [
       "FF_Network(\n",
       "  (net): Sequential(\n",
       "    (0): Linear(in_features=3, out_features=55, bias=True)\n",
       "    (1): BatchNorm1d(55, eps=1e-05, momentum=0.1, affine=True, track_running_stats=True)\n",
       "    (2): ReLU()\n",
       "    (3): Linear(in_features=55, out_features=40, bias=True)\n",
       "    (4): BatchNorm1d(40, eps=1e-05, momentum=0.1, affine=True, track_running_stats=True)\n",
       "    (5): ReLU()\n",
       "    (6): Linear(in_features=40, out_features=5, bias=True)\n",
       "  )\n",
       ")"
      ]
     },
     "execution_count": 37,
     "metadata": {},
     "output_type": "execute_result"
    }
   ],
   "source": [
    "model = FF_Network()\n",
    "model.load_state_dict(torch.load('./weights'))\n",
    "model.to(device)\n",
    "# model.eval()"
   ]
  },
  {
   "cell_type": "code",
   "execution_count": 38,
   "metadata": {},
   "outputs": [
    {
     "name": "stdout",
     "output_type": "stream",
     "text": [
      "Train set accuracy:  0.9727717011868746 \n",
      "Validation set accuracy:  0.9818499127399651 \n",
      "Test set accuracy:  0.9444444444444444\n"
     ]
    }
   ],
   "source": [
    "print(\"Train set accuracy: \", accuracy(model.forward(X_train), Y_OH_train), \"\\nValidation set accuracy: \", accuracy(model.forward(X_val), Y_OH_val), \"\\nTest set accuracy: \", accuracy(model.forward(X_test), Y_OH_test))"
   ]
  },
  {
   "cell_type": "code",
   "execution_count": 39,
   "metadata": {},
   "outputs": [
    {
     "ename": "Error",
     "evalue": "iterable expected, not numpy.int64",
     "output_type": "error",
     "traceback": [
      "\u001b[1;31m---------------------------------------------------------------------------\u001b[0m",
      "\u001b[1;31mError\u001b[0m                                     Traceback (most recent call last)",
      "\u001b[1;32m<ipython-input-39-4a6a1e09f741>\u001b[0m in \u001b[0;36m<module>\u001b[1;34m\u001b[0m\n\u001b[0;32m      3\u001b[0m \u001b[1;32mwith\u001b[0m \u001b[0mopen\u001b[0m\u001b[1;33m(\u001b[0m\u001b[1;34m'submission.csv'\u001b[0m\u001b[1;33m,\u001b[0m \u001b[1;34m'w'\u001b[0m\u001b[1;33m,\u001b[0m \u001b[0mnewline\u001b[0m\u001b[1;33m=\u001b[0m\u001b[1;34m''\u001b[0m\u001b[1;33m)\u001b[0m \u001b[1;32mas\u001b[0m \u001b[0mfile\u001b[0m\u001b[1;33m:\u001b[0m\u001b[1;33m\u001b[0m\u001b[1;33m\u001b[0m\u001b[0m\n\u001b[0;32m      4\u001b[0m     \u001b[0mwriter\u001b[0m \u001b[1;33m=\u001b[0m \u001b[0mcsv\u001b[0m\u001b[1;33m.\u001b[0m\u001b[0mwriter\u001b[0m\u001b[1;33m(\u001b[0m\u001b[0mfile\u001b[0m\u001b[1;33m)\u001b[0m\u001b[1;33m\u001b[0m\u001b[1;33m\u001b[0m\u001b[0m\n\u001b[1;32m----> 5\u001b[1;33m     \u001b[0mwriter\u001b[0m\u001b[1;33m.\u001b[0m\u001b[0mwriterows\u001b[0m\u001b[1;33m(\u001b[0m\u001b[0mnp\u001b[0m\u001b[1;33m.\u001b[0m\u001b[0margmax\u001b[0m\u001b[1;33m(\u001b[0m\u001b[0mY_test_pred\u001b[0m\u001b[1;33m.\u001b[0m\u001b[0mto\u001b[0m\u001b[1;33m(\u001b[0m\u001b[1;34m'cpu'\u001b[0m\u001b[1;33m)\u001b[0m\u001b[1;33m.\u001b[0m\u001b[0mdetach\u001b[0m\u001b[1;33m(\u001b[0m\u001b[1;33m)\u001b[0m\u001b[1;33m.\u001b[0m\u001b[0mnumpy\u001b[0m\u001b[1;33m(\u001b[0m\u001b[1;33m)\u001b[0m\u001b[1;33m,\u001b[0m \u001b[1;36m1\u001b[0m\u001b[1;33m)\u001b[0m\u001b[1;33m)\u001b[0m\u001b[1;33m\u001b[0m\u001b[1;33m\u001b[0m\u001b[0m\n\u001b[0m",
      "\u001b[1;31mError\u001b[0m: iterable expected, not numpy.int64"
     ]
    }
   ],
   "source": [
    "import csv\n",
    "\n",
    "with open('submission.csv', 'w', newline='') as file:\n",
    "    writer = csv.writer(file)\n",
    "    writer.writerows(np.argmax(Y_test_pred.to('cpu').detach().numpy(), 1))"
   ]
  },
  {
   "cell_type": "code",
   "execution_count": null,
   "metadata": {},
   "outputs": [],
   "source": [
    "np.argmax(Y_test_pred.to('cpu').detach().numpy(), 1)"
   ]
  },
  {
   "cell_type": "code",
   "execution_count": null,
   "metadata": {},
   "outputs": [],
   "source": [
    "\n"
   ]
  }
 ],
 "metadata": {
  "kernelspec": {
   "display_name": "Python 3",
   "language": "python",
   "name": "python3"
  },
  "language_info": {
   "codemirror_mode": {
    "name": "ipython",
    "version": 3
   },
   "file_extension": ".py",
   "mimetype": "text/x-python",
   "name": "python",
   "nbconvert_exporter": "python",
   "pygments_lexer": "ipython3",
   "version": "3.6.8"
  }
 },
 "nbformat": 4,
 "nbformat_minor": 2
}
